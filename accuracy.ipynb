{
 "cells": [
  {
   "cell_type": "code",
   "execution_count": 20,
   "metadata": {},
   "outputs": [],
   "source": [
    "import pandas as pd\n",
    "import numpy as np\n",
    "import torch\n",
    "import tqdm"
   ]
  },
  {
   "cell_type": "code",
   "execution_count": 14,
   "metadata": {},
   "outputs": [
    {
     "data": {
      "text/html": [
       "<div>\n",
       "<style scoped>\n",
       "    .dataframe tbody tr th:only-of-type {\n",
       "        vertical-align: middle;\n",
       "    }\n",
       "\n",
       "    .dataframe tbody tr th {\n",
       "        vertical-align: top;\n",
       "    }\n",
       "\n",
       "    .dataframe thead th {\n",
       "        text-align: right;\n",
       "    }\n",
       "</style>\n",
       "<table border=\"1\" class=\"dataframe\">\n",
       "  <thead>\n",
       "    <tr style=\"text-align: right;\">\n",
       "      <th></th>\n",
       "      <th>toxic</th>\n",
       "      <th>text</th>\n",
       "    </tr>\n",
       "  </thead>\n",
       "  <tbody>\n",
       "    <tr>\n",
       "      <th>5</th>\n",
       "      <td>0</td>\n",
       "      <td>Thank you for understanding. I think very high...</td>\n",
       "    </tr>\n",
       "    <tr>\n",
       "      <th>7</th>\n",
       "      <td>0</td>\n",
       "      <td>:Dear god this site is horrible.</td>\n",
       "    </tr>\n",
       "    <tr>\n",
       "      <th>11</th>\n",
       "      <td>0</td>\n",
       "      <td>\"::: Somebody will invariably try to add Relig...</td>\n",
       "    </tr>\n",
       "    <tr>\n",
       "      <th>13</th>\n",
       "      <td>0</td>\n",
       "      <td>\" \\n\\n It says it right there that it IS a typ...</td>\n",
       "    </tr>\n",
       "    <tr>\n",
       "      <th>14</th>\n",
       "      <td>0</td>\n",
       "      <td>\" \\n\\n == Before adding a new product to the l...</td>\n",
       "    </tr>\n",
       "    <tr>\n",
       "      <th>...</th>\n",
       "      <td>...</td>\n",
       "      <td>...</td>\n",
       "    </tr>\n",
       "    <tr>\n",
       "      <th>153150</th>\n",
       "      <td>0</td>\n",
       "      <td>:Jerome, I see you never got around to this…! ...</td>\n",
       "    </tr>\n",
       "    <tr>\n",
       "      <th>153151</th>\n",
       "      <td>0</td>\n",
       "      <td>==Lucky bastard== \\n http://wikimediafoundatio...</td>\n",
       "    </tr>\n",
       "    <tr>\n",
       "      <th>153154</th>\n",
       "      <td>0</td>\n",
       "      <td>==shame on you all!!!== \\n\\n You want to speak...</td>\n",
       "    </tr>\n",
       "    <tr>\n",
       "      <th>153155</th>\n",
       "      <td>1</td>\n",
       "      <td>MEL GIBSON IS A NAZI BITCH WHO MAKES SHITTY MO...</td>\n",
       "    </tr>\n",
       "    <tr>\n",
       "      <th>153156</th>\n",
       "      <td>0</td>\n",
       "      <td>\" \\n\\n == Unicorn lair discovery == \\n\\n Suppo...</td>\n",
       "    </tr>\n",
       "  </tbody>\n",
       "</table>\n",
       "<p>63978 rows × 2 columns</p>\n",
       "</div>"
      ],
      "text/plain": [
       "        toxic                                               text\n",
       "5           0  Thank you for understanding. I think very high...\n",
       "7           0                   :Dear god this site is horrible.\n",
       "11          0  \"::: Somebody will invariably try to add Relig...\n",
       "13          0  \" \\n\\n It says it right there that it IS a typ...\n",
       "14          0  \" \\n\\n == Before adding a new product to the l...\n",
       "...       ...                                                ...\n",
       "153150      0  :Jerome, I see you never got around to this…! ...\n",
       "153151      0  ==Lucky bastard== \\n http://wikimediafoundatio...\n",
       "153154      0  ==shame on you all!!!== \\n\\n You want to speak...\n",
       "153155      1  MEL GIBSON IS A NAZI BITCH WHO MAKES SHITTY MO...\n",
       "153156      0  \" \\n\\n == Unicorn lair discovery == \\n\\n Suppo...\n",
       "\n",
       "[63978 rows x 2 columns]"
      ]
     },
     "execution_count": 14,
     "metadata": {},
     "output_type": "execute_result"
    }
   ],
   "source": [
    "device = torch.device('cpu')\n",
    "df_test_text = pd.read_csv(\"test.csv\")\n",
    "df_test_labels = pd.read_csv(\"test_labels.csv\")[['id', 'toxic']]\n",
    "df_test = pd.merge(df_test_text, df_test_labels, on='id')\n",
    "df_test.head(10)\n",
    "\n",
    "df_test['text'] = df_test['comment_text']\n",
    "df_test.drop(['id', 'comment_text'], inplace=True, axis=1)\n",
    "df_test.head(20)\n",
    "\n",
    "df_test = df_test.drop(df_test[df_test['toxic'] == -1].index)\n",
    "df_test"
   ]
  },
  {
   "cell_type": "code",
   "execution_count": 17,
   "metadata": {},
   "outputs": [],
   "source": [
    "def get_pred(text, classifier, tokenizer):\n",
    "    text_token = tokenizer(\"hello world\", return_tensors=\"pt\")\n",
    "    output = classifier(**text_token)\n",
    "    prediction = torch.sigmoid(output.logits)*100\n",
    "    prediction = prediction.detach().numpy().tolist()[0]\n",
    "    return prediction[0]\n"
   ]
  },
  {
   "cell_type": "code",
   "execution_count": 31,
   "metadata": {},
   "outputs": [
    {
     "data": {
      "text/plain": [
       "0.9058669774999117"
      ]
     },
     "execution_count": 31,
     "metadata": {},
     "output_type": "execute_result"
    }
   ],
   "source": [
    "y_pred = []\n",
    "y_true = []\n",
    "classifier = AutoModelForSequenceClassification.from_pretrained(\"sachiniyer/tweet_toxicity\")\n",
    "tokenizer = AutoTokenizer.from_pretrained(\"sachiniyer/tweet_toxicity\")\n",
    "for d in df_test.itertuples():\n",
    "    y_pred.append(round(get_pred(d.text, classifier, tokenizer)))\n",
    "    y_true.append(d.toxic)\n",
    "    if d.Index % 1000 == 0: print(d.Index)\n",
    "\n",
    "from sklearn.metrics import accuracy_score\n",
    "accuracy_score(y_pred, y_true)"
   ]
  },
  {
   "cell_type": "code",
   "execution_count": null,
   "metadata": {},
   "outputs": [],
   "source": []
  }
 ],
 "metadata": {
  "kernelspec": {
   "display_name": "ai",
   "language": "python",
   "name": "ai"
  },
  "language_info": {
   "codemirror_mode": {
    "name": "ipython",
    "version": 3
   },
   "file_extension": ".py",
   "mimetype": "text/x-python",
   "name": "python",
   "nbconvert_exporter": "python",
   "pygments_lexer": "ipython3",
   "version": "3.10.9"
  }
 },
 "nbformat": 4,
 "nbformat_minor": 4
}
